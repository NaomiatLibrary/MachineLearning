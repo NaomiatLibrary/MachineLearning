{
 "cells": [
  {
   "cell_type": "markdown",
   "metadata": {},
   "source": [
    "# Lasso、リッジ回帰"
   ]
  },
  {
   "cell_type": "code",
   "execution_count": 1,
   "metadata": {},
   "outputs": [],
   "source": [
    "import pandas as pd\n",
    "import seaborn as sns\n",
    "from pandas import DataFrame\n",
    "from sklearn.model_selection import train_test_split\n",
    "from sklearn import metrics\n",
    "import matplotlib.pyplot as plt\n",
    "from sklearn.neighbors import KNeighborsRegressor\n",
    "from sklearn.datasets import load_boston\n",
    "from sklearn.metrics import mean_squared_error\n",
    "from sklearn.metrics import mean_absolute_error\n",
    "\n",
    "import preprocesses\n",
    "from sklearn.preprocessing import PolynomialFeatures\n",
    "from sklearn.pipeline import Pipeline\n",
    "from sklearn.model_selection import KFold, cross_val_score\n",
    "from sklearn.model_selection import cross_validate\n",
    "from sklearn.metrics import r2_score\n",
    "import numpy as np"
   ]
  },
  {
   "cell_type": "code",
   "execution_count": 2,
   "metadata": {},
   "outputs": [],
   "source": [
    "#データの読み込み\n",
    "import pandas as pd\n",
    "train = pd.read_csv('train.csv')\n",
    "test = pd.read_csv('test.csv')"
   ]
  },
  {
   "cell_type": "code",
   "execution_count": 3,
   "metadata": {
    "collapsed": true
   },
   "outputs": [
    {
     "name": "stderr",
     "output_type": "stream",
     "text": [
      "/Users/Naomi/Desktop/git_clones/MachineLearning/House_Prices/preprocesses.py:56: SettingWithCopyWarning: \n",
      "A value is trying to be set on a copy of a slice from a DataFrame.\n",
      "Try using .loc[row_indexer,col_indexer] = value instead\n",
      "\n",
      "See the caveats in the documentation: http://pandas.pydata.org/pandas-docs/stable/indexing.html#indexing-view-versus-copy\n",
      "  t[k]= t[k].map(five_map1)\n",
      "/Users/Naomi/Desktop/git_clones/MachineLearning/House_Prices/preprocesses.py:57: SettingWithCopyWarning: \n",
      "A value is trying to be set on a copy of a slice from a DataFrame.\n",
      "Try using .loc[row_indexer,col_indexer] = value instead\n",
      "\n",
      "See the caveats in the documentation: http://pandas.pydata.org/pandas-docs/stable/indexing.html#indexing-view-versus-copy\n",
      "  t[\"BsmtExposure\"]= t[\"BsmtExposure\"].map(five_map2)\n",
      "/Users/Naomi/Desktop/git_clones/MachineLearning/House_Prices/preprocesses.py:58: SettingWithCopyWarning: \n",
      "A value is trying to be set on a copy of a slice from a DataFrame.\n",
      "Try using .loc[row_indexer,col_indexer] = value instead\n",
      "\n",
      "See the caveats in the documentation: http://pandas.pydata.org/pandas-docs/stable/indexing.html#indexing-view-versus-copy\n",
      "  t[\"BsmtFinType1\"]= t[\"BsmtFinType1\"].map(six_map1)\n",
      "/Users/Naomi/Desktop/git_clones/MachineLearning/House_Prices/preprocesses.py:59: SettingWithCopyWarning: \n",
      "A value is trying to be set on a copy of a slice from a DataFrame.\n",
      "Try using .loc[row_indexer,col_indexer] = value instead\n",
      "\n",
      "See the caveats in the documentation: http://pandas.pydata.org/pandas-docs/stable/indexing.html#indexing-view-versus-copy\n",
      "  t[\"CentralAir\"]= t[\"CentralAir\"].map(YN_map)\n",
      "/Users/Naomi/Desktop/git_clones/MachineLearning/House_Prices/preprocesses.py:60: SettingWithCopyWarning: \n",
      "A value is trying to be set on a copy of a slice from a DataFrame.\n",
      "Try using .loc[row_indexer,col_indexer] = value instead\n",
      "\n",
      "See the caveats in the documentation: http://pandas.pydata.org/pandas-docs/stable/indexing.html#indexing-view-versus-copy\n",
      "  t[\"GarageFinish\"]= t[\"GarageFinish\"].map(three_map1)\n",
      "/Users/Naomi/Desktop/git_clones/MachineLearning/House_Prices/preprocesses.py:61: SettingWithCopyWarning: \n",
      "A value is trying to be set on a copy of a slice from a DataFrame.\n",
      "Try using .loc[row_indexer,col_indexer] = value instead\n",
      "\n",
      "See the caveats in the documentation: http://pandas.pydata.org/pandas-docs/stable/indexing.html#indexing-view-versus-copy\n",
      "  t[\"PavedDrive\"]= t[\"PavedDrive\"].map(YPN_map)\n",
      "/Users/Naomi/Desktop/git_clones/MachineLearning/House_Prices/preprocesses.py:63: SettingWithCopyWarning: \n",
      "A value is trying to be set on a copy of a slice from a DataFrame.\n",
      "Try using .loc[row_indexer,col_indexer] = value instead\n",
      "\n",
      "See the caveats in the documentation: http://pandas.pydata.org/pandas-docs/stable/indexing.html#indexing-view-versus-copy\n",
      "  t[\"BsmtUnfSF\"]=t[\"BsmtUnfSF\"]/t[\"TotalBsmtSF\"]\n",
      "/Users/Naomi/Desktop/git_clones/MachineLearning/House_Prices/preprocesses.py:65: SettingWithCopyWarning: \n",
      "A value is trying to be set on a copy of a slice from a DataFrame.\n",
      "Try using .loc[row_indexer,col_indexer] = value instead\n",
      "\n",
      "See the caveats in the documentation: http://pandas.pydata.org/pandas-docs/stable/indexing.html#indexing-view-versus-copy\n",
      "  t[\"Baths\"]=t[\"BsmtFullBath\"]+t[\"BsmtHalfBath\"]+ t[\"FullBath\"]+t[\"HalfBath\"]\n"
     ]
    }
   ],
   "source": [
    "new_train=train[preprocesses.train_valiable_list]\n",
    "new_test=test[preprocesses.test_valiable_list]\n",
    "new_train=preprocesses.preprocess(new_train)\n",
    "new_test=preprocesses.preprocess(new_test)\n",
    "new_train[\"SalePrice\"]=np.log(new_train[\"SalePrice\"])\n",
    "y=new_train[[\"SalePrice\"]]\n",
    "X=new_train.drop([\"SalePrice\"], axis=1)\n",
    "X_train, X_valid, y_train, y_valid = train_test_split(\n",
    "    X, y, test_size=0.2, random_state=2020)"
   ]
  },
  {
   "cell_type": "code",
   "execution_count": 4,
   "metadata": {},
   "outputs": [
    {
     "data": {
      "text/html": [
       "<div>\n",
       "<style scoped>\n",
       "    .dataframe tbody tr th:only-of-type {\n",
       "        vertical-align: middle;\n",
       "    }\n",
       "\n",
       "    .dataframe tbody tr th {\n",
       "        vertical-align: top;\n",
       "    }\n",
       "\n",
       "    .dataframe thead th {\n",
       "        text-align: right;\n",
       "    }\n",
       "</style>\n",
       "<table border=\"1\" class=\"dataframe\">\n",
       "  <thead>\n",
       "    <tr style=\"text-align: right;\">\n",
       "      <th></th>\n",
       "      <th>LotFrontage</th>\n",
       "      <th>LotArea</th>\n",
       "      <th>OverallQual</th>\n",
       "      <th>OverallCond</th>\n",
       "      <th>YearBuilt</th>\n",
       "      <th>YearRemodAdd</th>\n",
       "      <th>MasVnrArea</th>\n",
       "      <th>ExterQual</th>\n",
       "      <th>ExterCond</th>\n",
       "      <th>BsmtQual</th>\n",
       "      <th>...</th>\n",
       "      <th>OpenPorchSF</th>\n",
       "      <th>EnclosedPorch</th>\n",
       "      <th>3SsnPorch</th>\n",
       "      <th>ScreenPorch</th>\n",
       "      <th>PoolArea</th>\n",
       "      <th>PoolQC</th>\n",
       "      <th>MiscVal</th>\n",
       "      <th>YrSold</th>\n",
       "      <th>SalePrice</th>\n",
       "      <th>Baths</th>\n",
       "    </tr>\n",
       "  </thead>\n",
       "  <tbody>\n",
       "    <tr>\n",
       "      <th>0</th>\n",
       "      <td>65.0</td>\n",
       "      <td>8450</td>\n",
       "      <td>7</td>\n",
       "      <td>5</td>\n",
       "      <td>2003</td>\n",
       "      <td>2003</td>\n",
       "      <td>196.0</td>\n",
       "      <td>4</td>\n",
       "      <td>3</td>\n",
       "      <td>4</td>\n",
       "      <td>...</td>\n",
       "      <td>61</td>\n",
       "      <td>0</td>\n",
       "      <td>0</td>\n",
       "      <td>0</td>\n",
       "      <td>0</td>\n",
       "      <td>0</td>\n",
       "      <td>0</td>\n",
       "      <td>2008</td>\n",
       "      <td>12.247694</td>\n",
       "      <td>4</td>\n",
       "    </tr>\n",
       "    <tr>\n",
       "      <th>1</th>\n",
       "      <td>80.0</td>\n",
       "      <td>9600</td>\n",
       "      <td>6</td>\n",
       "      <td>8</td>\n",
       "      <td>1976</td>\n",
       "      <td>1976</td>\n",
       "      <td>0.0</td>\n",
       "      <td>3</td>\n",
       "      <td>3</td>\n",
       "      <td>4</td>\n",
       "      <td>...</td>\n",
       "      <td>0</td>\n",
       "      <td>0</td>\n",
       "      <td>0</td>\n",
       "      <td>0</td>\n",
       "      <td>0</td>\n",
       "      <td>0</td>\n",
       "      <td>0</td>\n",
       "      <td>2007</td>\n",
       "      <td>12.109011</td>\n",
       "      <td>3</td>\n",
       "    </tr>\n",
       "    <tr>\n",
       "      <th>2</th>\n",
       "      <td>68.0</td>\n",
       "      <td>11250</td>\n",
       "      <td>7</td>\n",
       "      <td>5</td>\n",
       "      <td>2001</td>\n",
       "      <td>2002</td>\n",
       "      <td>162.0</td>\n",
       "      <td>4</td>\n",
       "      <td>3</td>\n",
       "      <td>4</td>\n",
       "      <td>...</td>\n",
       "      <td>42</td>\n",
       "      <td>0</td>\n",
       "      <td>0</td>\n",
       "      <td>0</td>\n",
       "      <td>0</td>\n",
       "      <td>0</td>\n",
       "      <td>0</td>\n",
       "      <td>2008</td>\n",
       "      <td>12.317167</td>\n",
       "      <td>4</td>\n",
       "    </tr>\n",
       "    <tr>\n",
       "      <th>3</th>\n",
       "      <td>60.0</td>\n",
       "      <td>9550</td>\n",
       "      <td>7</td>\n",
       "      <td>5</td>\n",
       "      <td>1915</td>\n",
       "      <td>1970</td>\n",
       "      <td>0.0</td>\n",
       "      <td>3</td>\n",
       "      <td>3</td>\n",
       "      <td>3</td>\n",
       "      <td>...</td>\n",
       "      <td>35</td>\n",
       "      <td>272</td>\n",
       "      <td>0</td>\n",
       "      <td>0</td>\n",
       "      <td>0</td>\n",
       "      <td>0</td>\n",
       "      <td>0</td>\n",
       "      <td>2006</td>\n",
       "      <td>11.849398</td>\n",
       "      <td>2</td>\n",
       "    </tr>\n",
       "    <tr>\n",
       "      <th>4</th>\n",
       "      <td>84.0</td>\n",
       "      <td>14260</td>\n",
       "      <td>8</td>\n",
       "      <td>5</td>\n",
       "      <td>2000</td>\n",
       "      <td>2000</td>\n",
       "      <td>350.0</td>\n",
       "      <td>4</td>\n",
       "      <td>3</td>\n",
       "      <td>4</td>\n",
       "      <td>...</td>\n",
       "      <td>84</td>\n",
       "      <td>0</td>\n",
       "      <td>0</td>\n",
       "      <td>0</td>\n",
       "      <td>0</td>\n",
       "      <td>0</td>\n",
       "      <td>0</td>\n",
       "      <td>2008</td>\n",
       "      <td>12.429216</td>\n",
       "      <td>4</td>\n",
       "    </tr>\n",
       "  </tbody>\n",
       "</table>\n",
       "<p>5 rows × 46 columns</p>\n",
       "</div>"
      ],
      "text/plain": [
       "   LotFrontage  LotArea  OverallQual  OverallCond  YearBuilt  YearRemodAdd  \\\n",
       "0         65.0     8450            7            5       2003          2003   \n",
       "1         80.0     9600            6            8       1976          1976   \n",
       "2         68.0    11250            7            5       2001          2002   \n",
       "3         60.0     9550            7            5       1915          1970   \n",
       "4         84.0    14260            8            5       2000          2000   \n",
       "\n",
       "   MasVnrArea  ExterQual  ExterCond  BsmtQual  ...  OpenPorchSF  \\\n",
       "0       196.0          4          3         4  ...           61   \n",
       "1         0.0          3          3         4  ...            0   \n",
       "2       162.0          4          3         4  ...           42   \n",
       "3         0.0          3          3         3  ...           35   \n",
       "4       350.0          4          3         4  ...           84   \n",
       "\n",
       "   EnclosedPorch  3SsnPorch  ScreenPorch  PoolArea  PoolQC  MiscVal  YrSold  \\\n",
       "0              0          0            0         0       0        0    2008   \n",
       "1              0          0            0         0       0        0    2007   \n",
       "2              0          0            0         0       0        0    2008   \n",
       "3            272          0            0         0       0        0    2006   \n",
       "4              0          0            0         0       0        0    2008   \n",
       "\n",
       "   SalePrice  Baths  \n",
       "0  12.247694      4  \n",
       "1  12.109011      3  \n",
       "2  12.317167      4  \n",
       "3  11.849398      2  \n",
       "4  12.429216      4  \n",
       "\n",
       "[5 rows x 46 columns]"
      ]
     },
     "execution_count": 4,
     "metadata": {},
     "output_type": "execute_result"
    }
   ],
   "source": [
    "new_train.head(5)"
   ]
  },
  {
   "cell_type": "code",
   "execution_count": 15,
   "metadata": {},
   "outputs": [],
   "source": [
    "#リッジ回帰\n",
    "from sklearn.linear_model import Ridge\n",
    "RMSE=[]\n",
    "r2_scores=[]\n",
    "testRMSE=[]\n",
    "alphas = 10**np.linspace(5, -5, 100)\n",
    "for alpha in alphas:#parameter change\n",
    "    model = Pipeline([('poly', PolynomialFeatures(degree=1)),('linear', Ridge(alpha = alpha, normalize = True))])\n",
    "    k_fold = KFold(n_splits=5)\n",
    "    test_MSE = cross_validate(model, X_train, y_train[\"SalePrice\"], \n",
    "                           cv=k_fold, scoring=('r2', 'neg_mean_squared_error'), n_jobs=-1)\n",
    "    RMSE.append(np.sqrt(np.mean(-test_MSE['test_neg_mean_squared_error'])))\n",
    "    r2_scores.append(np.mean(test_MSE['test_r2']))\n",
    "    mdl=Pipeline([('poly', PolynomialFeatures(degree=1)),('linear', Ridge(alpha = alpha, normalize = True))])\n",
    "    mdl.fit(X_train, y_train)\n",
    "    testRMSE.append(np.sqrt(mean_squared_error(y_valid['SalePrice'], mdl.predict(X_valid))))"
   ]
  },
  {
   "cell_type": "code",
   "execution_count": 16,
   "metadata": {},
   "outputs": [
    {
     "name": "stdout",
     "output_type": "stream",
     "text": [
      "0.16585895639803142\n",
      "0.35111917342151344\n",
      "0.11591683337081518\n",
      "0.054622772176843484\n"
     ]
    }
   ],
   "source": [
    "\n",
    "print(min(RMSE))\n",
    "print(alphas[RMSE.index(min(RMSE))])\n",
    "print(min(testRMSE))\n",
    "print(alphas[testRMSE.index(min(testRMSE))])"
   ]
  },
  {
   "cell_type": "code",
   "execution_count": 17,
   "metadata": {},
   "outputs": [
    {
     "name": "stdout",
     "output_type": "stream",
     "text": [
      "[-0.004080991593368166, -0.004037421418931819, -0.003982447067787121, -0.003913085222316748, -0.0038255731055546914, -0.0037151654055768146, -0.003575878632774776, -0.003400169504908268, -0.003178530656652678, -0.0028989829330102745, -0.0025464386284053788, -0.002101904164688384, -0.0015414837872385733, -0.0008351379068716857, 5.485910570279806e-05, 0.001175826102439248, 0.0025870204577237653, 0.0043625010720127035, 0.006594589845295129, 0.00939800335258072, 0.012914699377249072, 0.017319425909415577, 0.022825855769261306, 0.02969301402340625, 0.03823142677787119, 0.04880800346466931, 0.061848079638796793, 0.0778322874447338, 0.09728504291377169, 0.12075062391886451, 0.14875244529473963, 0.18173187658270454, 0.21996569956906176, 0.2634669607441323, 0.3118827622966305, 0.36441296444613114, 0.4197816942826268, 0.47629250342797036, 0.5319821576359225, 0.5848575536119224, 0.6331655639265422, 0.67562484161082, 0.7115565253389796, 0.7408864472541151, 0.7640366262955953, 0.7817554359474239, 0.7949417089795879, 0.8045024589792316, 0.8112604686669463, 0.8159088995951722, 0.819000408742208, 0.8209568411510555, 0.8220886135478608, 0.8226169830151122, 0.8226956131766123, 0.8224297156938121, 0.8218918676036558, 0.8211339446924819, 0.8201949163747188, 0.8191046900673662, 0.8178846831478467, 0.816546136155953, 0.8150872150419467, 0.81348967276642, 0.811715359411447, 0.8097023489688686, 0.8073600574775401, 0.8045626082426225, 0.8011399784683009, 0.796867235551965, 0.791453498734269, 0.7845341126439328, 0.7756716521868675, 0.7643731209202459, 0.7501307491398539, 0.7324903581415965, 0.7111430447053234, 0.6860239421846958, 0.6573907178779378, 0.6258516001740461, 0.5923235048565105, 0.557923292492946, 0.5238190734526077, 0.4910813488699553, 0.4605697321033461, 0.432874206910248, 0.40831036379366664, 0.386954426701726, 0.3686991855766156, 0.35331431017359466, 0.3405001563317679, 0.32992992177865965, 0.32127924487799164, 0.3142447525613646, 0.30855402437098406, 0.30396949744642915, 0.3002884565736603, 0.2973407377101334, 0.2949852840277019, 0.2931062959749607]\n"
     ]
    }
   ],
   "source": [
    "print(r2_scores)"
   ]
  },
  {
   "cell_type": "code",
   "execution_count": 18,
   "metadata": {},
   "outputs": [
    {
     "data": {
      "text/plain": [
       "Text(0, 0.5, 'RMSE')"
      ]
     },
     "execution_count": 18,
     "metadata": {},
     "output_type": "execute_result"
    },
    {
     "data": {
      "image/png": "[encoded data removed]",
      "text/plain": [
       "<Figure size 432x288 with 1 Axes>"
      ]
     },
     "metadata": {
      "needs_background": "light"
     },
     "output_type": "display_data"
    }
   ],
   "source": [
    "plt.plot(alphas,RMSE,\"o-\",markersize=2,label=\"validation\")\n",
    "plt.plot(alphas,testRMSE,\"o-\",markersize=2,label=\"test\")\n",
    "plt.legend()\n",
    "plt.xscale(\"log\")\n",
    "plt.hlines([0.143781980986776], alphas[-1],alphas[0], \"red\", linestyles='dotted')\n",
    "plt.xlabel(\"alpha\")\n",
    "plt.ylabel(\"RMSE\")"
   ]
  },
  {
   "cell_type": "code",
   "execution_count": 19,
   "metadata": {},
   "outputs": [
    {
     "data": {
      "text/plain": [
       "array([ 3.27980143e-04,  1.96452485e-06,  5.62695386e-02,  3.34173618e-02,\n",
       "        1.20863530e-03,  8.39405307e-04,  1.47939834e-05,  3.68131667e-02,\n",
       "       -6.88515382e-03,  2.52560257e-02, -8.10305196e-03,  1.13691122e-02,\n",
       "        6.39860888e-03, -1.22951124e-05, -4.83578508e-02,  5.09983502e-05,\n",
       "        1.80853437e-02,  6.07341639e-02,  1.01643715e-04,  4.15358538e-05,\n",
       "        7.58917981e-06,  8.37416620e-05,  1.34922180e-02, -4.12082239e-02,\n",
       "        1.58901556e-02,  3.24358472e-02,  1.96181149e-02,  1.21098698e-02,\n",
       "        7.82491887e-06,  1.29176030e-02,  4.35172132e-02,  7.48787954e-05,\n",
       "        8.26397296e-03,  1.18216783e-03,  2.05670319e-02,  9.22166453e-05,\n",
       "        1.57130592e-05,  1.02370764e-04,  1.84827475e-04,  2.77631011e-04,\n",
       "        1.02977709e-04, -6.90167004e-02,  4.51070534e-08, -5.21927242e-03,\n",
       "        3.12552089e-02])"
      ]
     },
     "execution_count": 19,
     "metadata": {},
     "output_type": "execute_result"
    }
   ],
   "source": [
    "#パラメータを見てみる\n",
    "model = Ridge(alpha =0.10974987654930568, normalize = True)\n",
    "model.fit(new_train.drop([\"SalePrice\"],axis=1),new_train[\"SalePrice\"])\n",
    "model.coef_"
   ]
  },
  {
   "cell_type": "code",
   "execution_count": 20,
   "metadata": {},
   "outputs": [
    {
     "data": {
      "text/plain": [
       "Index([], dtype='object')"
      ]
     },
     "execution_count": 20,
     "metadata": {},
     "output_type": "execute_result"
    }
   ],
   "source": [
    "new_train.drop([\"SalePrice\"],axis=1).columns[model.coef_==0] #10個が0になっている。"
   ]
  },
  {
   "cell_type": "code",
   "execution_count": 21,
   "metadata": {},
   "outputs": [],
   "source": [
    "#Lasso回帰\n",
    "from sklearn.linear_model import Lasso\n",
    "RMSE=[]\n",
    "r2_scores=[]\n",
    "testRMSE=[]\n",
    "alphas = 10**np.linspace(5, -10, 100)\n",
    "for alpha in alphas:#parameter change\n",
    "    model = Pipeline([('poly', PolynomialFeatures(degree=1)),('linear', Lasso(alpha = alpha, normalize = True))])\n",
    "    k_fold = KFold(n_splits=5)\n",
    "    test_MSE = cross_validate(model, X_train, y_train[\"SalePrice\"], \n",
    "                           cv=k_fold, scoring=('r2', 'neg_mean_squared_error'), n_jobs=-1)\n",
    "    RMSE.append(np.sqrt(np.mean(-test_MSE['test_neg_mean_squared_error'])))\n",
    "    r2_scores.append(np.mean(test_MSE['test_r2']))\n",
    "    mdl=Pipeline([('poly', PolynomialFeatures(degree=1)),('linear', Lasso(alpha = alpha, normalize = True))])\n",
    "    mdl.fit(X_train, y_train)\n",
    "    testRMSE.append(np.sqrt(mean_squared_error(y_valid['SalePrice'], mdl.predict(X_valid))))"
   ]
  },
  {
   "cell_type": "code",
   "execution_count": 22,
   "metadata": {
    "scrolled": true
   },
   "outputs": [
    {
     "name": "stdout",
     "output_type": "stream",
     "text": [
      "0.1661893076533753\n",
      "0.00032745491628777317\n",
      "0.11630067932522686\n",
      "2.8480358684358048e-05\n"
     ]
    }
   ],
   "source": [
    "\n",
    "print(min(RMSE))\n",
    "print(alphas[RMSE.index(min(RMSE))])\n",
    "print(min(testRMSE))\n",
    "print(alphas[testRMSE.index(min(testRMSE))])"
   ]
  },
  {
   "cell_type": "code",
   "execution_count": 23,
   "metadata": {
    "scrolled": true
   },
   "outputs": [
    {
     "data": {
      "text/plain": [
       "Text(0, 0.5, 'RMSE')"
      ]
     },
     "execution_count": 23,
     "metadata": {},
     "output_type": "execute_result"
    },
    {
     "data": {
      "image/png": "[encoded data removed]",
      "text/plain": [
       "<Figure size 432x288 with 1 Axes>"
      ]
     },
     "metadata": {
      "needs_background": "light"
     },
     "output_type": "display_data"
    }
   ],
   "source": [
    "plt.plot(alphas,RMSE,\"o-\",markersize=2,label=\"validation\")\n",
    "plt.plot(alphas,testRMSE,\"o-\",markersize=2,label=\"test\")\n",
    "plt.legend()\n",
    "plt.xscale(\"log\")\n",
    "plt.hlines([0.143781980986776], alphas[-1],alphas[0], \"red\", linestyles='dotted')\n",
    "plt.xlabel(\"alpha\")\n",
    "plt.ylabel(\"RMSE\")"
   ]
  },
  {
   "cell_type": "markdown",
   "metadata": {},
   "source": [
    "パラメータを見てみるといくつかのパラメータが0になっている。"
   ]
  },
  {
   "cell_type": "code",
   "execution_count": 24,
   "metadata": {},
   "outputs": [
    {
     "data": {
      "text/plain": [
       "array([ 2.31168434e-04,  2.09897205e-06,  7.00785925e-02,  3.77355201e-02,\n",
       "        1.61052387e-03,  5.25367315e-04,  0.00000000e+00,  2.50174414e-02,\n",
       "       -5.74986380e-04,  2.00768802e-02, -0.00000000e+00,  9.38135935e-03,\n",
       "        5.04270710e-03, -0.00000000e+00, -4.67042092e-02,  3.08029867e-05,\n",
       "        1.75368956e-02,  5.35006211e-02,  8.03345037e-05,  0.00000000e+00,\n",
       "       -0.00000000e+00,  1.41354444e-04,  9.16520933e-03, -3.59088714e-02,\n",
       "        1.30367602e-02,  2.77998289e-02,  9.02965249e-03,  1.35659235e-02,\n",
       "       -0.00000000e+00,  8.70077987e-03,  5.64512939e-02,  3.08353664e-05,\n",
       "        5.17464527e-03,  0.00000000e+00,  1.55921300e-02,  7.88325290e-05,\n",
       "        0.00000000e+00,  7.89177457e-05,  1.15112914e-04,  2.69329074e-04,\n",
       "        0.00000000e+00, -5.52964238e-02,  0.00000000e+00, -3.52315884e-03,\n",
       "        2.90283518e-02])"
      ]
     },
     "execution_count": 24,
     "metadata": {},
     "output_type": "execute_result"
    }
   ],
   "source": [
    "model = Lasso(alpha =5.72236765935022e-05, normalize = True)\n",
    "model.fit(new_train.drop([\"SalePrice\"],axis=1),new_train[\"SalePrice\"])\n",
    "model.coef_"
   ]
  },
  {
   "cell_type": "code",
   "execution_count": 25,
   "metadata": {},
   "outputs": [
    {
     "data": {
      "text/plain": [
       "Index(['MasVnrArea', 'BsmtCond', 'BsmtFinSF1', '2ndFlrSF', 'LowQualFinSF',\n",
       "       'GarageYrBlt', 'GarageCond', 'OpenPorchSF', 'PoolArea', 'MiscVal'],\n",
       "      dtype='object')"
      ]
     },
     "execution_count": 25,
     "metadata": {},
     "output_type": "execute_result"
    }
   ],
   "source": [
    "new_train.drop([\"SalePrice\"],axis=1).columns[model.coef_==0] #10個が0になっている。"
   ]
  },
  {
   "cell_type": "code",
   "execution_count": null,
   "metadata": {},
   "outputs": [],
   "source": []
  }
 ],
 "metadata": {
  "kernelspec": {
   "display_name": "Python 3",
   "language": "python",
   "name": "python3"
  },
  "language_info": {
   "codemirror_mode": {
    "name": "ipython",
    "version": 3
   },
   "file_extension": ".py",
   "mimetype": "text/x-python",
   "name": "python",
   "nbconvert_exporter": "python",
   "pygments_lexer": "ipython3",
   "version": "3.7.2"
  }
 },
 "nbformat": 4,
 "nbformat_minor": 2
}
