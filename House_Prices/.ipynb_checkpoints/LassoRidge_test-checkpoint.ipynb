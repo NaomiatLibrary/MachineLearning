{
 "cells": [
  {
   "cell_type": "markdown",
   "metadata": {},
   "source": [
    "# Lasso、リッジ回帰"
   ]
  },
  {
   "cell_type": "code",
   "execution_count": 1,
   "metadata": {},
   "outputs": [],
   "source": [
    "import pandas as pd\n",
    "import seaborn as sns\n",
    "from pandas import DataFrame\n",
    "from sklearn.model_selection import train_test_split\n",
    "from sklearn import metrics\n",
    "import matplotlib.pyplot as plt\n",
    "from sklearn.neighbors import KNeighborsRegressor\n",
    "from sklearn.datasets import load_boston\n",
    "from sklearn.metrics import mean_squared_error\n",
    "from sklearn.metrics import mean_absolute_error\n",
    "\n",
    "import preprocesses\n",
    "from sklearn.preprocessing import PolynomialFeatures\n",
    "from sklearn.pipeline import Pipeline\n",
    "from sklearn.model_selection import KFold, cross_val_score\n",
    "from sklearn.model_selection import cross_validate\n",
    "from sklearn.metrics import r2_score\n",
    "import numpy as np"
   ]
  },
  {
   "cell_type": "code",
   "execution_count": 2,
   "metadata": {},
   "outputs": [],
   "source": [
    "#データの読み込み\n",
    "import pandas as pd\n",
    "train = pd.read_csv('train.csv')\n",
    "test = pd.read_csv('test.csv')"
   ]
  },
  {
   "cell_type": "code",
   "execution_count": 3,
   "metadata": {
    "collapsed": true
   },
   "outputs": [
    {
     "name": "stderr",
     "output_type": "stream",
     "text": [
      "/Users/Naomi/Desktop/git_clones/MachineLearning/House_Prices/preprocesses.py:56: SettingWithCopyWarning: \n",
      "A value is trying to be set on a copy of a slice from a DataFrame.\n",
      "Try using .loc[row_indexer,col_indexer] = value instead\n",
      "\n",
      "See the caveats in the documentation: http://pandas.pydata.org/pandas-docs/stable/indexing.html#indexing-view-versus-copy\n",
      "  t[k]= t[k].map(five_map1)\n",
      "/Users/Naomi/Desktop/git_clones/MachineLearning/House_Prices/preprocesses.py:57: SettingWithCopyWarning: \n",
      "A value is trying to be set on a copy of a slice from a DataFrame.\n",
      "Try using .loc[row_indexer,col_indexer] = value instead\n",
      "\n",
      "See the caveats in the documentation: http://pandas.pydata.org/pandas-docs/stable/indexing.html#indexing-view-versus-copy\n",
      "  t[\"BsmtExposure\"]= t[\"BsmtExposure\"].map(five_map2)\n",
      "/Users/Naomi/Desktop/git_clones/MachineLearning/House_Prices/preprocesses.py:58: SettingWithCopyWarning: \n",
      "A value is trying to be set on a copy of a slice from a DataFrame.\n",
      "Try using .loc[row_indexer,col_indexer] = value instead\n",
      "\n",
      "See the caveats in the documentation: http://pandas.pydata.org/pandas-docs/stable/indexing.html#indexing-view-versus-copy\n",
      "  t[\"BsmtFinType1\"]= t[\"BsmtFinType1\"].map(six_map1)\n",
      "/Users/Naomi/Desktop/git_clones/MachineLearning/House_Prices/preprocesses.py:59: SettingWithCopyWarning: \n",
      "A value is trying to be set on a copy of a slice from a DataFrame.\n",
      "Try using .loc[row_indexer,col_indexer] = value instead\n",
      "\n",
      "See the caveats in the documentation: http://pandas.pydata.org/pandas-docs/stable/indexing.html#indexing-view-versus-copy\n",
      "  t[\"CentralAir\"]= t[\"CentralAir\"].map(YN_map)\n",
      "/Users/Naomi/Desktop/git_clones/MachineLearning/House_Prices/preprocesses.py:60: SettingWithCopyWarning: \n",
      "A value is trying to be set on a copy of a slice from a DataFrame.\n",
      "Try using .loc[row_indexer,col_indexer] = value instead\n",
      "\n",
      "See the caveats in the documentation: http://pandas.pydata.org/pandas-docs/stable/indexing.html#indexing-view-versus-copy\n",
      "  t[\"GarageFinish\"]= t[\"GarageFinish\"].map(three_map1)\n",
      "/Users/Naomi/Desktop/git_clones/MachineLearning/House_Prices/preprocesses.py:61: SettingWithCopyWarning: \n",
      "A value is trying to be set on a copy of a slice from a DataFrame.\n",
      "Try using .loc[row_indexer,col_indexer] = value instead\n",
      "\n",
      "See the caveats in the documentation: http://pandas.pydata.org/pandas-docs/stable/indexing.html#indexing-view-versus-copy\n",
      "  t[\"PavedDrive\"]= t[\"PavedDrive\"].map(YPN_map)\n",
      "/Users/Naomi/Desktop/git_clones/MachineLearning/House_Prices/preprocesses.py:63: SettingWithCopyWarning: \n",
      "A value is trying to be set on a copy of a slice from a DataFrame.\n",
      "Try using .loc[row_indexer,col_indexer] = value instead\n",
      "\n",
      "See the caveats in the documentation: http://pandas.pydata.org/pandas-docs/stable/indexing.html#indexing-view-versus-copy\n",
      "  t[\"BsmtUnfSF\"]=t[\"BsmtUnfSF\"]/t[\"TotalBsmtSF\"]\n",
      "/Users/Naomi/Desktop/git_clones/MachineLearning/House_Prices/preprocesses.py:65: SettingWithCopyWarning: \n",
      "A value is trying to be set on a copy of a slice from a DataFrame.\n",
      "Try using .loc[row_indexer,col_indexer] = value instead\n",
      "\n",
      "See the caveats in the documentation: http://pandas.pydata.org/pandas-docs/stable/indexing.html#indexing-view-versus-copy\n",
      "  t[\"Baths\"]=t[\"BsmtFullBath\"]+t[\"BsmtHalfBath\"]+ t[\"FullBath\"]+t[\"HalfBath\"]\n"
     ]
    }
   ],
   "source": [
    "new_train=train[preprocesses.train_valiable_list]\n",
    "new_test=test[preprocesses.test_valiable_list]\n",
    "new_train=preprocesses.preprocess(new_train)\n",
    "new_test=preprocesses.preprocess(new_test)\n",
    "new_train[\"SalePrice\"]=np.log(new_train[\"SalePrice\"])\n",
    "y=new_train[[\"SalePrice\"]]\n",
    "X=new_train.drop([\"SalePrice\"], axis=1)\n",
    "X_train, X_valid, y_train, y_valid = train_test_split(\n",
    "    X, y, test_size=0.2, random_state=2020)"
   ]
  },
  {
   "cell_type": "code",
   "execution_count": 4,
   "metadata": {},
   "outputs": [
    {
     "data": {
      "text/html": [
       "<div>\n",
       "<style scoped>\n",
       "    .dataframe tbody tr th:only-of-type {\n",
       "        vertical-align: middle;\n",
       "    }\n",
       "\n",
       "    .dataframe tbody tr th {\n",
       "        vertical-align: top;\n",
       "    }\n",
       "\n",
       "    .dataframe thead th {\n",
       "        text-align: right;\n",
       "    }\n",
       "</style>\n",
       "<table border=\"1\" class=\"dataframe\">\n",
       "  <thead>\n",
       "    <tr style=\"text-align: right;\">\n",
       "      <th></th>\n",
       "      <th>LotFrontage</th>\n",
       "      <th>LotArea</th>\n",
       "      <th>OverallQual</th>\n",
       "      <th>OverallCond</th>\n",
       "      <th>YearBuilt</th>\n",
       "      <th>YearRemodAdd</th>\n",
       "      <th>MasVnrArea</th>\n",
       "      <th>ExterQual</th>\n",
       "      <th>ExterCond</th>\n",
       "      <th>BsmtQual</th>\n",
       "      <th>...</th>\n",
       "      <th>OpenPorchSF</th>\n",
       "      <th>EnclosedPorch</th>\n",
       "      <th>3SsnPorch</th>\n",
       "      <th>ScreenPorch</th>\n",
       "      <th>PoolArea</th>\n",
       "      <th>PoolQC</th>\n",
       "      <th>MiscVal</th>\n",
       "      <th>YrSold</th>\n",
       "      <th>SalePrice</th>\n",
       "      <th>Baths</th>\n",
       "    </tr>\n",
       "  </thead>\n",
       "  <tbody>\n",
       "    <tr>\n",
       "      <th>0</th>\n",
       "      <td>65.0</td>\n",
       "      <td>8450</td>\n",
       "      <td>7</td>\n",
       "      <td>5</td>\n",
       "      <td>2003</td>\n",
       "      <td>2003</td>\n",
       "      <td>196.0</td>\n",
       "      <td>4</td>\n",
       "      <td>3</td>\n",
       "      <td>4</td>\n",
       "      <td>...</td>\n",
       "      <td>61</td>\n",
       "      <td>0</td>\n",
       "      <td>0</td>\n",
       "      <td>0</td>\n",
       "      <td>0</td>\n",
       "      <td>0</td>\n",
       "      <td>0</td>\n",
       "      <td>2008</td>\n",
       "      <td>12.247694</td>\n",
       "      <td>4</td>\n",
       "    </tr>\n",
       "    <tr>\n",
       "      <th>1</th>\n",
       "      <td>80.0</td>\n",
       "      <td>9600</td>\n",
       "      <td>6</td>\n",
       "      <td>8</td>\n",
       "      <td>1976</td>\n",
       "      <td>1976</td>\n",
       "      <td>0.0</td>\n",
       "      <td>3</td>\n",
       "      <td>3</td>\n",
       "      <td>4</td>\n",
       "      <td>...</td>\n",
       "      <td>0</td>\n",
       "      <td>0</td>\n",
       "      <td>0</td>\n",
       "      <td>0</td>\n",
       "      <td>0</td>\n",
       "      <td>0</td>\n",
       "      <td>0</td>\n",
       "      <td>2007</td>\n",
       "      <td>12.109011</td>\n",
       "      <td>3</td>\n",
       "    </tr>\n",
       "    <tr>\n",
       "      <th>2</th>\n",
       "      <td>68.0</td>\n",
       "      <td>11250</td>\n",
       "      <td>7</td>\n",
       "      <td>5</td>\n",
       "      <td>2001</td>\n",
       "      <td>2002</td>\n",
       "      <td>162.0</td>\n",
       "      <td>4</td>\n",
       "      <td>3</td>\n",
       "      <td>4</td>\n",
       "      <td>...</td>\n",
       "      <td>42</td>\n",
       "      <td>0</td>\n",
       "      <td>0</td>\n",
       "      <td>0</td>\n",
       "      <td>0</td>\n",
       "      <td>0</td>\n",
       "      <td>0</td>\n",
       "      <td>2008</td>\n",
       "      <td>12.317167</td>\n",
       "      <td>4</td>\n",
       "    </tr>\n",
       "    <tr>\n",
       "      <th>3</th>\n",
       "      <td>60.0</td>\n",
       "      <td>9550</td>\n",
       "      <td>7</td>\n",
       "      <td>5</td>\n",
       "      <td>1915</td>\n",
       "      <td>1970</td>\n",
       "      <td>0.0</td>\n",
       "      <td>3</td>\n",
       "      <td>3</td>\n",
       "      <td>3</td>\n",
       "      <td>...</td>\n",
       "      <td>35</td>\n",
       "      <td>272</td>\n",
       "      <td>0</td>\n",
       "      <td>0</td>\n",
       "      <td>0</td>\n",
       "      <td>0</td>\n",
       "      <td>0</td>\n",
       "      <td>2006</td>\n",
       "      <td>11.849398</td>\n",
       "      <td>2</td>\n",
       "    </tr>\n",
       "    <tr>\n",
       "      <th>4</th>\n",
       "      <td>84.0</td>\n",
       "      <td>14260</td>\n",
       "      <td>8</td>\n",
       "      <td>5</td>\n",
       "      <td>2000</td>\n",
       "      <td>2000</td>\n",
       "      <td>350.0</td>\n",
       "      <td>4</td>\n",
       "      <td>3</td>\n",
       "      <td>4</td>\n",
       "      <td>...</td>\n",
       "      <td>84</td>\n",
       "      <td>0</td>\n",
       "      <td>0</td>\n",
       "      <td>0</td>\n",
       "      <td>0</td>\n",
       "      <td>0</td>\n",
       "      <td>0</td>\n",
       "      <td>2008</td>\n",
       "      <td>12.429216</td>\n",
       "      <td>4</td>\n",
       "    </tr>\n",
       "  </tbody>\n",
       "</table>\n",
       "<p>5 rows × 46 columns</p>\n",
       "</div>"
      ],
      "text/plain": [
       "   LotFrontage  LotArea  OverallQual  OverallCond  YearBuilt  YearRemodAdd  \\\n",
       "0         65.0     8450            7            5       2003          2003   \n",
       "1         80.0     9600            6            8       1976          1976   \n",
       "2         68.0    11250            7            5       2001          2002   \n",
       "3         60.0     9550            7            5       1915          1970   \n",
       "4         84.0    14260            8            5       2000          2000   \n",
       "\n",
       "   MasVnrArea  ExterQual  ExterCond  BsmtQual  ...  OpenPorchSF  \\\n",
       "0       196.0          4          3         4  ...           61   \n",
       "1         0.0          3          3         4  ...            0   \n",
       "2       162.0          4          3         4  ...           42   \n",
       "3         0.0          3          3         3  ...           35   \n",
       "4       350.0          4          3         4  ...           84   \n",
       "\n",
       "   EnclosedPorch  3SsnPorch  ScreenPorch  PoolArea  PoolQC  MiscVal  YrSold  \\\n",
       "0              0          0            0         0       0        0    2008   \n",
       "1              0          0            0         0       0        0    2007   \n",
       "2              0          0            0         0       0        0    2008   \n",
       "3            272          0            0         0       0        0    2006   \n",
       "4              0          0            0         0       0        0    2008   \n",
       "\n",
       "   SalePrice  Baths  \n",
       "0  12.247694      4  \n",
       "1  12.109011      3  \n",
       "2  12.317167      4  \n",
       "3  11.849398      2  \n",
       "4  12.429216      4  \n",
       "\n",
       "[5 rows x 46 columns]"
      ]
     },
     "execution_count": 4,
     "metadata": {},
     "output_type": "execute_result"
    }
   ],
   "source": [
    "new_train.head(5)"
   ]
  },
  {
   "cell_type": "code",
   "execution_count": 6,
   "metadata": {},
   "outputs": [],
   "source": [
    "#リッジ回帰\n",
    "from sklearn.linear_model import Ridge\n",
    "RMSE=[]\n",
    "r2_scores=[]\n",
    "testRMSE=[]\n",
    "alphas = 10**np.linspace(5, -5, 100)\n",
    "for alpha in alphas:#parameter change\n",
    "    model = Pipeline([('poly', PolynomialFeatures(degree=1)),('linear', Ridge(alpha = alpha, normalize = True))])\n",
    "    k_fold = KFold(n_splits=5)\n",
    "    test_MSE = cross_validate(model, X_train, y_train[\"SalePrice\"], \n",
    "                           cv=k_fold, scoring=('r2', 'neg_mean_squared_error'), n_jobs=-1)\n",
    "    RMSE.append(np.sqrt(np.mean(-test_MSE['test_neg_mean_squared_error'])))\n",
    "    r2_scores.append(np.mean(test_MSE['test_r2']))\n",
    "    mdl=Pipeline([('poly', PolynomialFeatures(degree=1)),('linear', Ridge(alpha = alpha, normalize = True))])\n",
    "    mdl.fit(X_train, y_train)\n",
    "    testRMSE.append(np.sqrt(mean_squared_error(y_valid['SalePrice'], mdl.predict(X_valid))))"
   ]
  },
  {
   "cell_type": "code",
   "execution_count": 7,
   "metadata": {},
   "outputs": [
    {
     "name": "stdout",
     "output_type": "stream",
     "text": [
      "0.16585895639803142\n",
      "0.35111917342151344\n",
      "0.11591683337081518\n",
      "0.054622772176843484\n"
     ]
    }
   ],
   "source": [
    "\n",
    "print(min(RMSE))\n",
    "print(alphas[RMSE.index(min(RMSE))])\n",
    "print(min(testRMSE))\n",
    "print(alphas[testRMSE.index(min(testRMSE))])"
   ]
  },
  {
   "cell_type": "code",
   "execution_count": 63,
   "metadata": {},
   "outputs": [
    {
     "name": "stdout",
     "output_type": "stream",
     "text": [
      "[-0.003296325897458563, -0.003251295661334663, -0.0031944791478520475, -0.0031227931178253064, -0.003032348786943073, -0.002918241966360813, -0.0027742888875368576, -0.0025926938646662957, -0.0023636315439136578, -0.002074722323170164, -0.00171037447575495, -0.0012509604641792516, -0.0006717878126142995, 5.818326682036634e-05, 0.000977932345907684, 0.0021363476399121504, 0.003594646379561062, 0.005429328225547004, 0.007735744084107576, 0.010632352760996966, 0.014265709047971687, 0.018816166644457934, 0.02450416967056024, 0.031596822419500216, 0.04041413643476548, 0.05133392094694713, 0.06479367651315975, 0.08128706838166208, 0.10135165836995838, 0.1255437552423106, 0.15439591006262382, 0.18835342132810365, 0.22768915757991248, 0.27240194713329846, 0.3221128886121788, 0.37598455600180763, 0.43269582637943504, 0.49050328970410184, 0.547403152925413, 0.6013759051187282, 0.6506609567068764, 0.6939886152158553, 0.7307065128934759, 0.7607749487254255, 0.7846513378443997, 0.8031148930518077, 0.817087386247454, 0.8274894491343667, 0.8351482440996039, 0.8407533665674831, 0.8448482326998457, 0.8478426474171566, 0.850035082092309, 0.851637209309084, 0.8527966623848542, 0.8536162555298251, 0.8541691425814661, 0.8545099771806262, 0.8546824243437884, 0.8547235830168978, 0.8546660610584859, 0.8545385403771304, 0.8543656211074602, 0.8541675456934403, 0.8539601447070897, 0.8537551030923609, 0.8535604818236004, 0.8533813648760219, 0.8532205129997266, 0.8530789523501229, 0.8529564711689656, 0.8528520244869053, 0.8527640561434577, 0.8526907478327688, 0.8526302036253259, 0.8525805783534249, 0.852540159128169, 0.8525074099499825, 0.8524809891935845, 0.8524597486666018, 0.8524427213095747, 0.8524291028324675, 0.8524182309643471, 0.8524095646758267, 0.8524026647504931, 0.8523971763979784, 0.852392814156876, 0.8523893490669927, 0.852386597942792, 0.8523844145111411, 0.8523826821561885, 0.8523813080216991, 0.8523802182430058, 0.8523793541086008, 0.852378668980386, 0.8523781258290812, 0.8523776952659621, 0.8523773539735127, 0.8523770834557374, 0.8523768690440274]\n"
     ]
    }
   ],
   "source": [
    "print(r2_scores)"
   ]
  },
  {
   "cell_type": "code",
   "execution_count": 8,
   "metadata": {},
   "outputs": [
    {
     "data": {
      "text/plain": [
       "Text(0, 0.5, 'RMSE')"
      ]
     },
     "execution_count": 8,
     "metadata": {},
     "output_type": "execute_result"
    },
    {
     "name": "stderr",
     "output_type": "stream",
     "text": [
      "findfont: Font family ['IPAexGothic'] not found. Falling back to DejaVu Sans.\n"
     ]
    },
    {
     "data": {
      "image/png": "[encoded data removed]",
      "text/plain": [
       "<Figure size 432x288 with 1 Axes>"
      ]
     },
     "metadata": {
      "needs_background": "light"
     },
     "output_type": "display_data"
    }
   ],
   "source": [
    "plt.plot(alphas,RMSE,\"o-\",markersize=2,label=\"validation\")\n",
    "plt.plot(alphas,testRMSE,\"o-\",markersize=2,label=\"test\")\n",
    "plt.legend()\n",
    "plt.xscale(\"log\")\n",
    "plt.hlines([0.12381220676923944], alphas[-1],alphas[0], \"red\", linestyles='dotted')\n",
    "plt.xlabel(\"alpha\")\n",
    "plt.ylabel(\"RMSE\")"
   ]
  },
  {
   "cell_type": "code",
   "execution_count": 69,
   "metadata": {},
   "outputs": [
    {
     "data": {
      "text/plain": [
       "array([ 3.27980143e-04,  1.96452485e-06,  5.62695386e-02,  3.34173618e-02,\n",
       "        1.20863530e-03,  8.39405307e-04,  1.47939834e-05,  3.68131667e-02,\n",
       "       -6.88515382e-03,  2.52560257e-02, -8.10305196e-03,  1.13691122e-02,\n",
       "        6.39860888e-03, -1.22951124e-05, -4.83578508e-02,  5.09983502e-05,\n",
       "        1.80853437e-02,  6.07341639e-02,  1.01643715e-04,  4.15358538e-05,\n",
       "        7.58917981e-06,  8.37416620e-05,  1.34922180e-02, -4.12082239e-02,\n",
       "        1.58901556e-02,  3.24358472e-02,  1.96181149e-02,  1.21098698e-02,\n",
       "        7.82491887e-06,  1.29176030e-02,  4.35172132e-02,  7.48787954e-05,\n",
       "        8.26397296e-03,  1.18216783e-03,  2.05670319e-02,  9.22166453e-05,\n",
       "        1.57130592e-05,  1.02370764e-04,  1.84827475e-04,  2.77631011e-04,\n",
       "        1.02977709e-04, -6.90167004e-02,  4.51070534e-08, -5.21927242e-03,\n",
       "        3.12552089e-02])"
      ]
     },
     "execution_count": 69,
     "metadata": {},
     "output_type": "execute_result"
    }
   ],
   "source": [
    "#パラメータを見てみる\n",
    "model = Ridge(alpha =0.10974987654930568, normalize = True)\n",
    "model.fit(new_train.drop([\"SalePrice\"],axis=1),new_train[\"SalePrice\"])\n",
    "model.coef_"
   ]
  },
  {
   "cell_type": "code",
   "execution_count": 9,
   "metadata": {},
   "outputs": [],
   "source": [
    "#Lasso回帰\n",
    "from sklearn.linear_model import Lasso\n",
    "RMSE=[]\n",
    "r2_scores=[]\n",
    "testRMSE=[]\n",
    "alphas = 10**np.linspace(5, -10, 100)\n",
    "for alpha in alphas:#parameter change\n",
    "    model = Pipeline([('poly', PolynomialFeatures(degree=1)),('linear', Lasso(alpha = alpha, normalize = True))])\n",
    "    k_fold = KFold(n_splits=5)\n",
    "    test_MSE = cross_validate(model, X_train, y_train[\"SalePrice\"], \n",
    "                           cv=k_fold, scoring=('r2', 'neg_mean_squared_error'), n_jobs=-1)\n",
    "    RMSE.append(np.sqrt(np.mean(-test_MSE['test_neg_mean_squared_error'])))\n",
    "    r2_scores.append(np.mean(test_MSE['test_r2']))\n",
    "    mdl=Pipeline([('poly', PolynomialFeatures(degree=1)),('linear', Lasso(alpha = alpha, normalize = True))])\n",
    "    mdl.fit(X_train, y_train)\n",
    "    testRMSE.append(np.sqrt(mean_squared_error(y_valid['SalePrice'], mdl.predict(X_valid))))"
   ]
  },
  {
   "cell_type": "code",
   "execution_count": 10,
   "metadata": {
    "scrolled": true
   },
   "outputs": [
    {
     "name": "stdout",
     "output_type": "stream",
     "text": [
      "0.1661893076533753\n",
      "0.00032745491628777317\n",
      "0.11630067932522686\n",
      "2.8480358684358048e-05\n"
     ]
    }
   ],
   "source": [
    "\n",
    "print(min(RMSE))\n",
    "print(alphas[RMSE.index(min(RMSE))])\n",
    "print(min(testRMSE))\n",
    "print(alphas[testRMSE.index(min(testRMSE))])"
   ]
  },
  {
   "cell_type": "code",
   "execution_count": 11,
   "metadata": {
    "scrolled": true
   },
   "outputs": [
    {
     "data": {
      "text/plain": [
       "Text(0, 0.5, 'RMSE')"
      ]
     },
     "execution_count": 11,
     "metadata": {},
     "output_type": "execute_result"
    },
    {
     "data": {
      "image/png": "[encoded data removed]",
      "text/plain": [
       "<Figure size 432x288 with 1 Axes>"
      ]
     },
     "metadata": {
      "needs_background": "light"
     },
     "output_type": "display_data"
    }
   ],
   "source": [
    "plt.plot(alphas,RMSE,\"o-\",markersize=2,label=\"validation\")\n",
    "plt.plot(alphas,testRMSE,\"o-\",markersize=2,label=\"test\")\n",
    "plt.legend()\n",
    "plt.xscale(\"log\")\n",
    "plt.hlines([0.12381220676923944], alphas[-1],alphas[0], \"red\", linestyles='dotted')\n",
    "plt.xlabel(\"alpha\")\n",
    "plt.ylabel(\"RMSE\")"
   ]
  },
  {
   "cell_type": "markdown",
   "metadata": {},
   "source": [
    "パラメータを見てみるといくつかのパラメータが0になっている。"
   ]
  },
  {
   "cell_type": "code",
   "execution_count": 82,
   "metadata": {},
   "outputs": [
    {
     "data": {
      "text/plain": [
       "array([ 2.31168434e-04,  2.09897205e-06,  7.00785925e-02,  3.77355201e-02,\n",
       "        1.61052387e-03,  5.25367315e-04,  0.00000000e+00,  2.50174414e-02,\n",
       "       -5.74986380e-04,  2.00768802e-02, -0.00000000e+00,  9.38135935e-03,\n",
       "        5.04270710e-03, -0.00000000e+00, -4.67042092e-02,  3.08029867e-05,\n",
       "        1.75368956e-02,  5.35006211e-02,  8.03345037e-05,  0.00000000e+00,\n",
       "       -0.00000000e+00,  1.41354444e-04,  9.16520933e-03, -3.59088714e-02,\n",
       "        1.30367602e-02,  2.77998289e-02,  9.02965249e-03,  1.35659235e-02,\n",
       "       -0.00000000e+00,  8.70077987e-03,  5.64512939e-02,  3.08353664e-05,\n",
       "        5.17464527e-03,  0.00000000e+00,  1.55921300e-02,  7.88325290e-05,\n",
       "        0.00000000e+00,  7.89177457e-05,  1.15112914e-04,  2.69329074e-04,\n",
       "        0.00000000e+00, -5.52964238e-02,  0.00000000e+00, -3.52315884e-03,\n",
       "        2.90283518e-02])"
      ]
     },
     "execution_count": 82,
     "metadata": {},
     "output_type": "execute_result"
    }
   ],
   "source": [
    "model = Lasso(alpha =5.72236765935022e-05, normalize = True)\n",
    "model.fit(new_train.drop([\"SalePrice\"],axis=1),new_train[\"SalePrice\"])\n",
    "model.coef_"
   ]
  },
  {
   "cell_type": "code",
   "execution_count": 88,
   "metadata": {},
   "outputs": [
    {
     "data": {
      "text/plain": [
       "Index(['MasVnrArea', 'BsmtCond', 'BsmtFinSF1', '2ndFlrSF', 'LowQualFinSF',\n",
       "       'GarageYrBlt', 'GarageCond', 'OpenPorchSF', 'PoolArea', 'MiscVal'],\n",
       "      dtype='object')"
      ]
     },
     "execution_count": 88,
     "metadata": {},
     "output_type": "execute_result"
    }
   ],
   "source": [
    "new_train.drop([\"SalePrice\"],axis=1).columns[model.coef_==0] #10個が0になっている。"
   ]
  }
 ],
 "metadata": {
  "kernelspec": {
   "display_name": "Python 3",
   "language": "python",
   "name": "python3"
  },
  "language_info": {
   "codemirror_mode": {
    "name": "ipython",
    "version": 3
   },
   "file_extension": ".py",
   "mimetype": "text/x-python",
   "name": "python",
   "nbconvert_exporter": "python",
   "pygments_lexer": "ipython3",
   "version": "3.7.2"
  }
 },
 "nbformat": 4,
 "nbformat_minor": 2
}
