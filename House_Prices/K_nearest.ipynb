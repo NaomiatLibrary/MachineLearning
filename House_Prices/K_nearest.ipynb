{
 "cells": [
  {
   "cell_type": "markdown",
   "metadata": {},
   "source": [
    "# K最近傍回帰"
   ]
  },
  {
   "cell_type": "code",
   "execution_count": 27,
   "metadata": {},
   "outputs": [],
   "source": [
    "import pandas as pd\n",
    "import seaborn as sns\n",
    "from pandas import DataFrame\n",
    "from sklearn.model_selection import train_test_split\n",
    "from sklearn import metrics\n",
    "import matplotlib.pyplot as plt\n",
    "from sklearn.neighbors import KNeighborsRegressor\n",
    "from sklearn.datasets import load_boston\n",
    "from sklearn.metrics import mean_squared_error\n",
    "from sklearn.metrics import mean_absolute_error\n",
    "\n",
    "import preprocesses\n",
    "from sklearn.preprocessing import PolynomialFeatures\n",
    "from sklearn.pipeline import Pipeline\n",
    "from sklearn.model_selection import KFold, cross_val_score\n",
    "from sklearn.model_selection import cross_validate\n",
    "from sklearn.metrics import r2_score\n",
    "import numpy as np"
   ]
  },
  {
   "cell_type": "code",
   "execution_count": 28,
   "metadata": {},
   "outputs": [],
   "source": [
    "#データの読み込み\n",
    "import pandas as pd\n",
    "train = pd.read_csv('train.csv')\n",
    "test = pd.read_csv('test.csv')"
   ]
  },
  {
   "cell_type": "code",
   "execution_count": 29,
   "metadata": {
    "collapsed": true
   },
   "outputs": [
    {
     "name": "stderr",
     "output_type": "stream",
     "text": [
      "/Users/Naomi/Desktop/git_clones/MachineLearning/House_Prices/preprocesses.py:56: SettingWithCopyWarning: \n",
      "A value is trying to be set on a copy of a slice from a DataFrame.\n",
      "Try using .loc[row_indexer,col_indexer] = value instead\n",
      "\n",
      "See the caveats in the documentation: http://pandas.pydata.org/pandas-docs/stable/indexing.html#indexing-view-versus-copy\n",
      "  t[k]= t[k].map(five_map1)\n",
      "/Users/Naomi/Desktop/git_clones/MachineLearning/House_Prices/preprocesses.py:57: SettingWithCopyWarning: \n",
      "A value is trying to be set on a copy of a slice from a DataFrame.\n",
      "Try using .loc[row_indexer,col_indexer] = value instead\n",
      "\n",
      "See the caveats in the documentation: http://pandas.pydata.org/pandas-docs/stable/indexing.html#indexing-view-versus-copy\n",
      "  t[\"BsmtExposure\"]= t[\"BsmtExposure\"].map(five_map2)\n",
      "/Users/Naomi/Desktop/git_clones/MachineLearning/House_Prices/preprocesses.py:58: SettingWithCopyWarning: \n",
      "A value is trying to be set on a copy of a slice from a DataFrame.\n",
      "Try using .loc[row_indexer,col_indexer] = value instead\n",
      "\n",
      "See the caveats in the documentation: http://pandas.pydata.org/pandas-docs/stable/indexing.html#indexing-view-versus-copy\n",
      "  t[\"BsmtFinType1\"]= t[\"BsmtFinType1\"].map(six_map1)\n",
      "/Users/Naomi/Desktop/git_clones/MachineLearning/House_Prices/preprocesses.py:59: SettingWithCopyWarning: \n",
      "A value is trying to be set on a copy of a slice from a DataFrame.\n",
      "Try using .loc[row_indexer,col_indexer] = value instead\n",
      "\n",
      "See the caveats in the documentation: http://pandas.pydata.org/pandas-docs/stable/indexing.html#indexing-view-versus-copy\n",
      "  t[\"CentralAir\"]= t[\"CentralAir\"].map(YN_map)\n",
      "/Users/Naomi/Desktop/git_clones/MachineLearning/House_Prices/preprocesses.py:60: SettingWithCopyWarning: \n",
      "A value is trying to be set on a copy of a slice from a DataFrame.\n",
      "Try using .loc[row_indexer,col_indexer] = value instead\n",
      "\n",
      "See the caveats in the documentation: http://pandas.pydata.org/pandas-docs/stable/indexing.html#indexing-view-versus-copy\n",
      "  t[\"GarageFinish\"]= t[\"GarageFinish\"].map(three_map1)\n",
      "/Users/Naomi/Desktop/git_clones/MachineLearning/House_Prices/preprocesses.py:61: SettingWithCopyWarning: \n",
      "A value is trying to be set on a copy of a slice from a DataFrame.\n",
      "Try using .loc[row_indexer,col_indexer] = value instead\n",
      "\n",
      "See the caveats in the documentation: http://pandas.pydata.org/pandas-docs/stable/indexing.html#indexing-view-versus-copy\n",
      "  t[\"PavedDrive\"]= t[\"PavedDrive\"].map(YPN_map)\n",
      "/Users/Naomi/Desktop/git_clones/MachineLearning/House_Prices/preprocesses.py:63: SettingWithCopyWarning: \n",
      "A value is trying to be set on a copy of a slice from a DataFrame.\n",
      "Try using .loc[row_indexer,col_indexer] = value instead\n",
      "\n",
      "See the caveats in the documentation: http://pandas.pydata.org/pandas-docs/stable/indexing.html#indexing-view-versus-copy\n",
      "  t[\"BsmtUnfSF\"]=t[\"BsmtUnfSF\"]/t[\"TotalBsmtSF\"]\n",
      "/Users/Naomi/Desktop/git_clones/MachineLearning/House_Prices/preprocesses.py:65: SettingWithCopyWarning: \n",
      "A value is trying to be set on a copy of a slice from a DataFrame.\n",
      "Try using .loc[row_indexer,col_indexer] = value instead\n",
      "\n",
      "See the caveats in the documentation: http://pandas.pydata.org/pandas-docs/stable/indexing.html#indexing-view-versus-copy\n",
      "  t[\"Baths\"]=t[\"BsmtFullBath\"]+t[\"BsmtHalfBath\"]+ t[\"FullBath\"]+t[\"HalfBath\"]\n"
     ]
    }
   ],
   "source": [
    "new_train=train[preprocesses.train_valiable_list]\n",
    "new_test=test[preprocesses.test_valiable_list]\n",
    "new_train=preprocesses.preprocess(new_train)\n",
    "new_test=preprocesses.preprocess(new_test)\n",
    "new_train[\"SalePrice\"]=np.log(new_train[\"SalePrice\"])"
   ]
  },
  {
   "cell_type": "code",
   "execution_count": 30,
   "metadata": {},
   "outputs": [
    {
     "name": "stdout",
     "output_type": "stream",
     "text": [
      "1 2 3 4 5 6 7 8 9 10 11 12 13 14 15 16 17 18 19 20 21 22 23 24 25 26 27 28 29 30 31 32 33 34 35 36 37 38 39 40 41 42 43 44 45 46 47 48 49 "
     ]
    }
   ],
   "source": [
    "RMSE=[]\n",
    "r2_scores=[]\n",
    "for k in range(1,50):\n",
    "    print(k,end=\" \")\n",
    "    model = Pipeline([('poly', PolynomialFeatures(degree=1)),('linear', KNeighborsRegressor(n_neighbors=k))])\n",
    "    k_fold = KFold(n_splits=5)\n",
    "    test_MSE = cross_validate(model, new_train.drop([\"SalePrice\"], axis=1), new_train[\"SalePrice\"], \n",
    "                           cv=k_fold, scoring=('r2', 'neg_mean_squared_error'), n_jobs=-1)\n",
    "    RMSE.append(np.sqrt(np.mean(-test_MSE['test_neg_mean_squared_error'])))\n",
    "    r2_scores.append(np.mean(test_MSE['test_r2']))"
   ]
  },
  {
   "cell_type": "code",
   "execution_count": 32,
   "metadata": {},
   "outputs": [
    {
     "name": "stdout",
     "output_type": "stream",
     "text": [
      "[0.27636537315143295, 0.2413534348764733, 0.22843818589091788, 0.22557445532666484, 0.22400973487257506, 0.2237350673249137, 0.22306733320670064, 0.2230824043048015, 0.22203969923747005, 0.22260882931988463, 0.224026940580872, 0.22558948668028742, 0.2268362086614592, 0.22824904738436522, 0.22868732461691552, 0.22980579244132512, 0.23097779497439605, 0.23164991707669458, 0.23238977102260744, 0.23322316868787207, 0.23397793052410423, 0.2357520666159543, 0.2364903727329428, 0.2374400370330717, 0.23824721540870294, 0.23884872635477947, 0.2399345744764342, 0.2407492037425962, 0.24203492346749036, 0.24281396636566485]\n",
      "[0.518715569662596, 0.6343577795251754, 0.6720132297297696, 0.6801701644432289, 0.6842594124001078, 0.6847891999365263, 0.6868115865788206, 0.6867369248408071, 0.6897975618380893, 0.6880110930997534, 0.68386794891678, 0.6792565793408893, 0.6757368108822465, 0.6718399972362082, 0.670901648398339, 0.6675678246869137, 0.6641344652621886, 0.6623965259565985, 0.6601560477296902, 0.6578602505227423, 0.6556266029263346, 0.6503707820133533, 0.6482027221408446, 0.6453371845816219, 0.6428317159406449, 0.6410556981057267, 0.6378090073849119, 0.6353237745627737, 0.6313897768609629, 0.6290644073833429]\n",
      "0.22203969923747005\n",
      "8\n"
     ]
    }
   ],
   "source": [
    "print(RMSE[0:30])\n",
    "print(r2_scores[0:30])\n",
    "print(np.min(RMSE))\n",
    "print(RMSE.index(np.min(RMSE)))#9で最小"
   ]
  },
  {
   "cell_type": "code",
   "execution_count": 35,
   "metadata": {},
   "outputs": [
    {
     "data": {
      "image/png": "[encoded data removed]",
      "text/plain": [
       "<Figure size 432x288 with 1 Axes>"
      ]
     },
     "metadata": {
      "needs_background": "light"
     },
     "output_type": "display_data"
    }
   ],
   "source": [
    "plt.plot(1/np.array(range(1,31)),RMSE[0:30],\"+-\")\n",
    "plt.hlines([0.12381220676923944], 0,1, \"red\", linestyles='dashed')\n",
    "plt.xlabel(\"1/K\")\n",
    "plt.ylabel(\"MSE\")\n",
    "plt.show()"
   ]
  },
  {
   "cell_type": "markdown",
   "metadata": {},
   "source": [
    "### 次元を減らしてみる\n",
    "K-meansでは次元の呪い(curse of dimensionally)が起こっていそうなので、\n",
    "次元を減らしてみる。<BR>\n",
    " LinearRegressionにおいてforward selectionを行い、説明変数を5,10,15,20,25,30,35,40個取り出して結果を比べてみた。"
   ]
  },
  {
   "cell_type": "code",
   "execution_count": 36,
   "metadata": {},
   "outputs": [],
   "source": [
    "new_train_valiable_list5=['OverallQual', 'OverallCond', '1stFlrSF', 'GarageCars', 'Baths']\n",
    "new_train_valiable_list10=['OverallQual', 'OverallCond', 'YearBuilt', 'BsmtFinType1', 'HeatingQC', '1stFlrSF', 'GrLivArea', 'FireplaceQu', 'GarageCars', 'Baths']\n",
    "new_train_valiable_list15=['LotArea', 'OverallQual', 'OverallCond', 'YearBuilt', 'BsmtQual', 'BsmtFinType1', 'HeatingQC', 'CentralAir', '1stFlrSF', 'GrLivArea', 'KitchenQual', 'FireplaceQu', 'GarageCars', 'ScreenPorch', 'Baths']\n",
    "new_train_valiable_list20=['LotArea', 'OverallQual', 'OverallCond', 'YearBuilt', 'BsmtQual', 'BsmtFinType1', 'BsmtUnfSF', 'HeatingQC', 'CentralAir', '1stFlrSF', 'GrLivArea', 'TotRmsAbvGrd', 'KitchenQual', 'FireplaceQu', 'GarageCars', 'WoodDeckSF', 'EnclosedPorch', 'ScreenPorch', 'PoolQC', 'Baths']\n",
    "new_train_valiable_list25=['LotArea', 'OverallQual', 'OverallCond', 'YearBuilt', 'ExterQual', 'BsmtQual', 'BsmtExposure', 'BsmtFinType1', 'BsmtUnfSF', 'HeatingQC', 'CentralAir', '1stFlrSF', 'GrLivArea', 'KitchenAbvGr', 'TotRmsAbvGrd', 'KitchenQual', 'FireplaceQu', 'GarageCars', 'PavedDrive', 'WoodDeckSF', 'EnclosedPorch', 'ScreenPorch', 'PoolArea', 'PoolQC', 'Baths']\n",
    "new_train_valiable_list30=['LotArea', 'OverallQual', 'OverallCond', 'YearBuilt', 'ExterQual', 'BsmtQual', 'BsmtCond', 'BsmtExposure', 'BsmtFinType1', 'BsmtUnfSF', 'HeatingQC', 'CentralAir', '1stFlrSF', 'GrLivArea', 'BedroomAbvGr', 'KitchenAbvGr', 'TotRmsAbvGrd', 'KitchenQual', 'FireplaceQu', 'GarageYrBlt', 'GarageCars', 'PavedDrive', 'WoodDeckSF', 'EnclosedPorch', '3SsnPorch', 'ScreenPorch', 'PoolArea', 'PoolQC', 'YrSold', 'Baths']\n",
    "new_train_valiable_list35=['LotArea', 'OverallQual', 'OverallCond', 'YearBuilt', 'YearRemodAdd', 'MasVnrArea', 'ExterQual', 'BsmtQual', 'BsmtCond', 'BsmtExposure', 'BsmtFinType1', 'BsmtUnfSF', 'HeatingQC', 'CentralAir', '1stFlrSF', 'GrLivArea', 'BedroomAbvGr', 'KitchenAbvGr', 'TotRmsAbvGrd', 'KitchenQual', 'FireplaceQu', 'GarageYrBlt', 'GarageFinish', 'GarageCars', 'GarageQual', 'GarageCond', 'PavedDrive', 'WoodDeckSF', 'EnclosedPorch', '3SsnPorch', 'ScreenPorch', 'PoolArea', 'PoolQC', 'YrSold', 'Baths']\n",
    "new_train_valiable_list40=['LotArea', 'OverallQual', 'OverallCond', 'YearBuilt', 'YearRemodAdd', 'MasVnrArea', 'ExterQual', 'ExterCond', 'BsmtQual', 'BsmtCond', 'BsmtExposure', 'BsmtFinType1', 'BsmtUnfSF', 'HeatingQC', 'CentralAir', '1stFlrSF', '2ndFlrSF', 'LowQualFinSF', 'GrLivArea', 'BedroomAbvGr', 'KitchenAbvGr', 'TotRmsAbvGrd', 'KitchenQual', 'Fireplaces', 'FireplaceQu', 'GarageYrBlt', 'GarageFinish', 'GarageCars', 'GarageQual', 'GarageCond', 'PavedDrive', 'WoodDeckSF', 'EnclosedPorch', '3SsnPorch', 'ScreenPorch', 'PoolArea', 'PoolQC', 'MiscVal', 'YrSold', 'Baths']"
   ]
  },
  {
   "cell_type": "code",
   "execution_count": 39,
   "metadata": {},
   "outputs": [
    {
     "data": {
      "image/png": "[encoded data removed]",
      "text/plain": [
       "<Figure size 1296x432 with 8 Axes>"
      ]
     },
     "metadata": {
      "needs_background": "light"
     },
     "output_type": "display_data"
    }
   ],
   "source": [
    "cnt=0\n",
    "plt.figure(figsize=(18,6))\n",
    "for valiables in [new_train_valiable_list5,new_train_valiable_list10,new_train_valiable_list15,new_train_valiable_list20,new_train_valiable_list25,new_train_valiable_list30,new_train_valiable_list35,new_train_valiable_list40]:\n",
    "    RMSE=[]\n",
    "    r2_scores=[]\n",
    "    N=30\n",
    "    for k in range(1,N):\n",
    "        model = Pipeline([('poly', PolynomialFeatures(degree=1)),('linear', KNeighborsRegressor(n_neighbors=k))])\n",
    "        k_fold = KFold(n_splits=5)\n",
    "        test_MSE = cross_validate(model, new_train[valiables], new_train[\"SalePrice\"], \n",
    "                           cv=k_fold, scoring=('r2', 'neg_mean_squared_error'), n_jobs=-1)\n",
    "        RMSE.append(np.sqrt(np.mean(-test_MSE['test_neg_mean_squared_error'])))\n",
    "        r2_scores.append(np.mean(test_MSE['test_r2']))\n",
    "    cnt+=1\n",
    "    plt.subplot(1,8,cnt)\n",
    "    plt.plot(1/np.array(range(1,N)),RMSE[0:N],\"+-\")\n",
    "    plt.hlines([0.12381220676923944], 0,1, \"red\", linestyles='dashed')\n",
    "    plt.xlabel(\"1/K\")\n",
    "    plt.ylabel(\"RMSE\")\n",
    "    plt.ylim([0.1,0.4])\n",
    "plt.show()"
   ]
  },
  {
   "cell_type": "markdown",
   "metadata": {},
   "source": [
    "10個の説明変数を取った時がもっともMSEが小さかった。それ以降は説明変数を多く取ってもあまりMSEは変わらなかった。\n",
    "これはLinearRegressionでの結果より少ない。<BR>\n",
    "説明変数の数が少ないほどK-neighborhoodはうまく働くからであると思われる。また、全てにおいてLinearRegressionの方がMSEが小さいので、予測変数とSalesPriceの間に線形に近い関係があることが多いとみなせる。(これは前処理で選択したn段階評価の説明変数について、評価が高いほどSalesPriceが高いという単純な線形関係がみられるからだと思われる。)"
   ]
  },
  {
   "cell_type": "markdown",
   "metadata": {},
   "source": [
    "一番良かったp=10,K=6の結果を提出してみる"
   ]
  },
  {
   "cell_type": "code",
   "execution_count": 41,
   "metadata": {},
   "outputs": [
    {
     "name": "stdout",
     "output_type": "stream",
     "text": [
      "Id,SalePrice\r\n",
      "1461,123201.67401600083\r\n",
      "1462,152937.07711343357\r\n",
      "1463,177499.75366715956\r\n",
      "1464,177258.7011957651\r\n",
      "1465,185496.25610125734\r\n",
      "1466,172781.82815147974\r\n",
      "1467,164086.00636400923\r\n",
      "1468,171837.01183006822\r\n",
      "1469,184659.43908848416\r\n"
     ]
    }
   ],
   "source": [
    "model = Pipeline([('poly', PolynomialFeatures(degree=1)),('linear', KNeighborsRegressor(n_neighbors=6))])\n",
    "model.fit(new_train[new_train_valiable_list10], new_train[\"SalePrice\"])\n",
    "\n",
    "# make predictions\n",
    "yt =model.predict(new_test[new_train_valiable_list10])\n",
    "output_df=new_test.copy()\n",
    "output_df[\"SalePrice\"] = np.exp(yt)#値段に戻す\n",
    "output_df[\"Id\"]=test[\"Id\"]\n",
    "output_df.to_csv(\"output.csv\",index=False, columns=['Id','SalePrice'])\n",
    "!head output.csv"
   ]
  },
  {
   "cell_type": "code",
   "execution_count": 42,
   "metadata": {},
   "outputs": [
    {
     "name": "stdout",
     "output_type": "stream",
     "text": [
      "Warning: Your Kaggle API key is readable by other users on this system! To fix this, you can run 'chmod 600 /Users/Naomi/.kaggle/kaggle.json'\n",
      "Warning: Looks like you're using an outdated API Version, please consider updating (server 1.5.6 / client 1.5.3)\n",
      "100%|██████████████████████████████████████| 33.7k/33.7k [00:04<00:00, 8.35kB/s]\n",
      "Successfully submitted to House Prices: Advanced Regression Techniques"
     ]
    }
   ],
   "source": [
    "!kaggle competitions submit -c house-prices-advanced-regression-techniques -f output.csv -m  \"K-neighbor\" "
   ]
  },
  {
   "cell_type": "markdown",
   "metadata": {},
   "source": [
    "スコアは0.21823であった。かなり悪い。"
   ]
  },
  {
   "cell_type": "code",
   "execution_count": null,
   "metadata": {},
   "outputs": [],
   "source": []
  }
 ],
 "metadata": {
  "kernelspec": {
   "display_name": "Python 3",
   "language": "python",
   "name": "python3"
  },
  "language_info": {
   "codemirror_mode": {
    "name": "ipython",
    "version": 3
   },
   "file_extension": ".py",
   "mimetype": "text/x-python",
   "name": "python",
   "nbconvert_exporter": "python",
   "pygments_lexer": "ipython3",
   "version": "3.7.2"
  }
 },
 "nbformat": 4,
 "nbformat_minor": 2
}
